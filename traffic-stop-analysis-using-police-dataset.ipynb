{
 "cells": [
  {
   "cell_type": "code",
   "execution_count": 1,
   "id": "ee33fa8f",
   "metadata": {
    "execution": {
     "iopub.execute_input": "2025-06-06T21:32:07.116629Z",
     "iopub.status.busy": "2025-06-06T21:32:07.116251Z",
     "iopub.status.idle": "2025-06-06T21:32:10.040034Z",
     "shell.execute_reply": "2025-06-06T21:32:10.038585Z"
    },
    "papermill": {
     "duration": 2.929202,
     "end_time": "2025-06-06T21:32:10.041685",
     "exception": false,
     "start_time": "2025-06-06T21:32:07.112483",
     "status": "completed"
    },
    "tags": []
   },
   "outputs": [
    {
     "name": "stderr",
     "output_type": "stream",
     "text": [
      "/tmp/ipykernel_13/1762856335.py:9: FutureWarning: A value is trying to be set on a copy of a DataFrame or Series through chained assignment using an inplace method.\n",
      "The behavior will change in pandas 3.0. This inplace method will never work because the intermediate object on which we are setting values always behaves as a copy.\n",
      "\n",
      "For example, when doing 'df[col].method(value, inplace=True)', try using 'df.method({col: value}, inplace=True)' or df[col] = df[col].method(value) instead, to perform the operation inplace on the original object.\n",
      "\n",
      "\n",
      "  police_df[\"search_conducted\"].fillna(False, inplace=True)\n",
      "/tmp/ipykernel_13/1762856335.py:10: FutureWarning: A value is trying to be set on a copy of a DataFrame or Series through chained assignment using an inplace method.\n",
      "The behavior will change in pandas 3.0. This inplace method will never work because the intermediate object on which we are setting values always behaves as a copy.\n",
      "\n",
      "For example, when doing 'df[col].method(value, inplace=True)', try using 'df.method({col: value}, inplace=True)' or df[col] = df[col].method(value) instead, to perform the operation inplace on the original object.\n",
      "\n",
      "\n",
      "  police_df[\"is_arrested\"].fillna(False, inplace=True)\n",
      "/tmp/ipykernel_13/1762856335.py:10: FutureWarning: Downcasting object dtype arrays on .fillna, .ffill, .bfill is deprecated and will change in a future version. Call result.infer_objects(copy=False) instead. To opt-in to the future behavior, set `pd.set_option('future.no_silent_downcasting', True)`\n",
      "  police_df[\"is_arrested\"].fillna(False, inplace=True)\n",
      "/tmp/ipykernel_13/1762856335.py:13: FutureWarning: A value is trying to be set on a copy of a DataFrame or Series through chained assignment using an inplace method.\n",
      "The behavior will change in pandas 3.0. This inplace method will never work because the intermediate object on which we are setting values always behaves as a copy.\n",
      "\n",
      "For example, when doing 'df[col].method(value, inplace=True)', try using 'df.method({col: value}, inplace=True)' or df[col] = df[col].method(value) instead, to perform the operation inplace on the original object.\n",
      "\n",
      "\n",
      "  police_df[col].fillna(\"Unknown\", inplace=True)\n",
      "/tmp/ipykernel_13/1762856335.py:13: FutureWarning: Setting an item of incompatible dtype is deprecated and will raise an error in a future version of pandas. Value 'Unknown' has dtype incompatible with float64, please explicitly cast to a compatible dtype first.\n",
      "  police_df[col].fillna(\"Unknown\", inplace=True)\n"
     ]
    },
    {
     "data": {
      "image/png": "[encoded data removed]",
      "text/plain": [
       "<Figure size 640x480 with 1 Axes>"
      ]
     },
     "metadata": {},
     "output_type": "display_data"
    },
    {
     "name": "stdout",
     "output_type": "stream",
     "text": [
      "Most common stop hour:  10\n",
      "Number of stops at that hour: 7350\n",
      "Driver Gender Percentages:\n",
      "Man: %68.56\n",
      "Woman: %25.63\n",
      "Unknown: %5.82\n",
      "\n",
      "Stop outcomes and their percantages:\n",
      "stop_outcome\n",
      "Citation            83.938479\n",
      "Unknown              5.813104\n",
      "Warning              5.770593\n",
      "Arrest Driver        2.802455\n",
      "N/D                  0.643115\n",
      "No Action            0.642025\n",
      "Arrest Passenger     0.390229\n",
      "Name: count, dtype: float64\n",
      "Number of stops with Citation: 77006\n",
      "Percentage of stops with Citation: 83.94%\n",
      "Arrested counts by race and gender:\n",
      " driver_race  driver_gender\n",
      "Asian        F                  11\n",
      "             M                  30\n",
      "Black        F                 134\n",
      "             M                 571\n",
      "Hispanic     F                  80\n",
      "             M                 486\n",
      "Other        M                   2\n",
      "White        F                 371\n",
      "             M                1244\n",
      "dtype: int64\n",
      "Arrest rate(%) by race and gender:\n",
      " driver_race  driver_gender\n",
      "Asian        F                2.144250\n",
      "             M                1.718213\n",
      "Black        F                5.193798\n",
      "             M                5.908526\n",
      "Hispanic     F                4.275788\n",
      "             M                6.364589\n",
      "Other        F                     NaN\n",
      "             M                0.934579\n",
      "Unknown      Unknown               NaN\n",
      "White        F                2.003132\n",
      "             M                2.850922\n",
      "             Unknown               NaN\n",
      "dtype: float64\n",
      "Sorted arrest rates(%):\n",
      "  driver_race  driver_gender\n",
      "Hispanic     M                6.364589\n",
      "Black        M                5.908526\n",
      "             F                5.193798\n",
      "Hispanic     F                4.275788\n",
      "White        M                2.850922\n",
      "Asian        F                2.144250\n",
      "White        F                2.003132\n",
      "Asian        M                1.718213\n",
      "Other        M                0.934579\n",
      "             F                     NaN\n",
      "Unknown      Unknown               NaN\n",
      "White        Unknown               NaN\n",
      "dtype: float64\n"
     ]
    },
    {
     "name": "stderr",
     "output_type": "stream",
     "text": [
      "/usr/local/lib/python3.11/dist-packages/pandas/io/formats/format.py:1458: RuntimeWarning: invalid value encountered in greater\n",
      "  has_large_values = (abs_vals > 1e6).any()\n",
      "/usr/local/lib/python3.11/dist-packages/pandas/io/formats/format.py:1459: RuntimeWarning: invalid value encountered in less\n",
      "  has_small_values = ((abs_vals < 10 ** (-self.digits)) & (abs_vals > 0)).any()\n",
      "/usr/local/lib/python3.11/dist-packages/pandas/io/formats/format.py:1459: RuntimeWarning: invalid value encountered in greater\n",
      "  has_small_values = ((abs_vals < 10 ** (-self.digits)) & (abs_vals > 0)).any()\n"
     ]
    }
   ],
   "source": [
    "import pandas as pd\n",
    "import matplotlib.pyplot as plt\n",
    "\n",
    "\n",
    "police_df = pd.read_csv(\"/kaggle/input/police/police.csv\")\n",
    "\n",
    "\n",
    "\n",
    "police_df[\"search_conducted\"].fillna(False, inplace=True)\n",
    "police_df[\"is_arrested\"].fillna(False, inplace=True)\n",
    "cols_to_fill = [\"driver_gender\", \"driver_race\", \"violation\", \"stop_outcome\", \"stop_duration\",\"driver_age\"]\n",
    "for col in cols_to_fill:\n",
    "    police_df[col].fillna(\"Unknown\", inplace=True)\n",
    "\n",
    "police_df[\"stop_datetime\"] = pd.to_datetime(police_df[\"stop_date\"] + ' ' + police_df[\"stop_time\"])\n",
    "police_df.drop([\"stop_date\",\"stop_time\",\"county_name\",\"search_type\",\"violation_raw\",\"driver_age_raw\"], axis=1, inplace=True)\n",
    "\n",
    "stop_by_hour = police_df[\"stop_datetime\"].dt.hour.value_counts().sort_index()\n",
    "plt.bar(stop_by_hour.index, stop_by_hour.values)\n",
    "plt.title(\"Number od Stops by Hour\")\n",
    "plt.xlabel(\"Hour of the Day\")\n",
    "plt.ylabel(\"Number of Stops\")\n",
    "plt.show()\n",
    "most_common_hour = stop_by_hour.idxmax()\n",
    "most_common_count = stop_by_hour.max()\n",
    "print(\"Most common stop hour: \", most_common_hour)\n",
    "print(\"Number of stops at that hour:\", most_common_count)\n",
    "\n",
    "\n",
    "gender_counts = police_df[\"driver_gender\"].value_counts()\n",
    "gender_percentages = (gender_counts  /gender_counts.sum()) * 100\n",
    "print(\"Driver Gender Percentages:\")\n",
    "for gender,percentage in gender_percentages.items():\n",
    "    if gender == \"M\":\n",
    "        label = \"Man\"\n",
    "    elif gender == \"F\":\n",
    "        label = \"Woman\"\n",
    "    else:\n",
    "        label = \"Unknown\"\n",
    "    print(f\"{label}: %{percentage:.2f}\")\n",
    "\n",
    "\n",
    "stoping_reason = police_df[\"stop_outcome\"].value_counts()\n",
    "total_stops = stoping_reason.sum()\n",
    "stoping_percentages = (stoping_reason / total_stops) * 100\n",
    "print(\"\\nStop outcomes and their percantages:\")\n",
    "print(stoping_percentages)\n",
    "citation_count = (police_df[\"stop_outcome\"] == \"Citation\").sum()\n",
    "print(\"Number of stops with Citation:\",citation_count)\n",
    "citation_percentage = citation_count / total_stops *100\n",
    "print(f\"Percentage of stops with Citation: {citation_percentage:.2f}%\")\n",
    "\n",
    "\n",
    "arrested = police_df[police_df[\"is_arrested\"] ==  True]\n",
    "arrested_count = arrested.groupby([\"driver_race\", \"driver_gender\"]).size()\n",
    "print(\"Arrested counts by race and gender:\\n\", arrested_count)\n",
    "total_stops = police_df.groupby([\"driver_race\", \"driver_gender\"]).size()\n",
    "arrest_rate = (arrested_count / total_stops) * 100\n",
    "print(\"Arrest rate(%) by race and gender:\\n\", arrest_rate)\n",
    "arrest_rate_sorted = arrest_rate.sort_values(ascending=False)\n",
    "print(\"Sorted arrest rates(%):\\n \", arrest_rate_sorted)"
   ]
  }
 ],
 "metadata": {
  "kaggle": {
   "accelerator": "none",
   "dataSources": [
    {
     "datasetId": 503746,
     "sourceId": 933130,
     "sourceType": "datasetVersion"
    }
   ],
   "dockerImageVersionId": 31040,
   "isGpuEnabled": false,
   "isInternetEnabled": false,
   "language": "python",
   "sourceType": "notebook"
  },
  "kernelspec": {
   "display_name": "Python 3",
   "language": "python",
   "name": "python3"
  },
  "language_info": {
   "codemirror_mode": {
    "name": "ipython",
    "version": 3
   },
   "file_extension": ".py",
   "mimetype": "text/x-python",
   "name": "python",
   "nbconvert_exporter": "python",
   "pygments_lexer": "ipython3",
   "version": "3.11.11"
  },
  "papermill": {
   "default_parameters": {},
   "duration": 9.802305,
   "end_time": "2025-06-06T21:32:10.664115",
   "environment_variables": {},
   "exception": null,
   "input_path": "__notebook__.ipynb",
   "output_path": "__notebook__.ipynb",
   "parameters": {},
   "start_time": "2025-06-06T21:32:00.861810",
   "version": "2.6.0"
  }
 },
 "nbformat": 4,
 "nbformat_minor": 5
}
