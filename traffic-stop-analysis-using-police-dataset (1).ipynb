{
 "cells": [
  {
   "cell_type": "code",
   "execution_count": 1,
   "id": "b6be30aa",
   "metadata": {
    "execution": {
     "iopub.execute_input": "2025-06-07T09:52:22.370085Z",
     "iopub.status.busy": "2025-06-07T09:52:22.369786Z",
     "iopub.status.idle": "2025-06-07T09:52:25.419687Z",
     "shell.execute_reply": "2025-06-07T09:52:25.418735Z"
    },
    "papermill": {
     "duration": 3.055437,
     "end_time": "2025-06-07T09:52:25.421556",
     "exception": false,
     "start_time": "2025-06-07T09:52:22.366119",
     "status": "completed"
    },
    "tags": []
   },
   "outputs": [
    {
     "data": {
      "image/png": "[encoded data removed]",
      "text/plain": [
       "<Figure size 640x480 with 1 Axes>"
      ]
     },
     "metadata": {},
     "output_type": "display_data"
    },
    {
     "name": "stdout",
     "output_type": "stream",
     "text": [
      "Most common stop hour:  10\n",
      "Number of stops at that hour: 7350\n",
      "Driver Gender Percentages:\n",
      "Man: %68.56\n",
      "Woman: %25.63\n",
      "Unknown: %5.82\n",
      "\n",
      "Stop outcomes and their percentages:\n",
      "stop_outcome\n",
      "Citation            83.938479\n",
      "Unknown              5.813104\n",
      "Warning              5.770593\n",
      "Arrest Driver        2.802455\n",
      "N/D                  0.643115\n",
      "No Action            0.642025\n",
      "Arrest Passenger     0.390229\n",
      "Name: count, dtype: float64\n",
      "Number of stops with Citation: 77006\n",
      "Percentage of stops with Citation: 83.94%\n",
      "Arrested counts by race and gender:\n",
      " driver_race  driver_gender\n",
      "Asian        F                  11\n",
      "             M                  30\n",
      "Black        F                 134\n",
      "             M                 571\n",
      "Hispanic     F                  80\n",
      "             M                 486\n",
      "Other        M                   2\n",
      "Unknown      Unknown          5333\n",
      "White        F                 371\n",
      "             M                1244\n",
      "dtype: int64\n",
      "Arrest rate(%) by race and gender:\n",
      " driver_race  driver_gender\n",
      "Asian        F                0.011990\n",
      "             M                0.032701\n",
      "Black        F                0.146063\n",
      "             M                0.622404\n",
      "Hispanic     F                0.087202\n",
      "             M                0.529752\n",
      "Other        M                0.002180\n",
      "Unknown      Unknown          5.813104\n",
      "White        F                0.404399\n",
      "             M                1.355991\n",
      "dtype: float64\n",
      "Sorted arrest rates(%):\n",
      "  driver_race  driver_gender\n",
      "Unknown      Unknown          5.813104\n",
      "White        M                1.355991\n",
      "Black        M                0.622404\n",
      "Hispanic     M                0.529752\n",
      "White        F                0.404399\n",
      "Black        F                0.146063\n",
      "Hispanic     F                0.087202\n",
      "Asian        M                0.032701\n",
      "             F                0.011990\n",
      "Other        M                0.002180\n",
      "dtype: float64\n"
     ]
    }
   ],
   "source": [
    "\n",
    "import pandas as pd\n",
    "import matplotlib.pyplot as plt\n",
    "\n",
    "police_df = pd.read_csv(\"/kaggle/input/police/police.csv\")\n",
    "\n",
    "police_df[\"search_conducted\"] = police_df[\"search_conducted\"].fillna(False)\n",
    "police_df[\"is_arrested\"] = police_df[\"is_arrested\"].astype('bool', errors='ignore').fillna(False)\n",
    "\n",
    "\n",
    "police_df[\"driver_age\"] = police_df[\"driver_age\"].fillna(-1) \n",
    "# police_df[\"driver_age\"] = police_df[\"driver_age\"].astype(\"object\").fillna(\"Unknown\")\n",
    "\n",
    "\n",
    "cols_to_fill = [\"driver_gender\", \"driver_race\", \"violation\", \"stop_outcome\", \"stop_duration\"]\n",
    "for col in cols_to_fill:\n",
    "    police_df[col] = police_df[col].fillna(\"Unknown\")\n",
    "\n",
    "\n",
    "police_df[\"stop_datetime\"] = pd.to_datetime(police_df[\"stop_date\"] + ' ' + police_df[\"stop_time\"])\n",
    "police_df.drop([\"stop_date\",\"stop_time\",\"county_name\",\"search_type\",\"violation_raw\",\"driver_age_raw\"], axis=1, inplace=True)\n",
    "\n",
    "stop_by_hour = police_df[\"stop_datetime\"].dt.hour.value_counts().sort_index()\n",
    "plt.bar(stop_by_hour.index, stop_by_hour.values)\n",
    "plt.title(\"Number of Stops by Hour\")\n",
    "plt.xlabel(\"Hour of the Day\")\n",
    "plt.ylabel(\"Number of Stops\")\n",
    "plt.show()\n",
    "\n",
    "\n",
    "most_common_hour = stop_by_hour.idxmax()\n",
    "most_common_count = stop_by_hour.max()\n",
    "print(\"Most common stop hour: \", most_common_hour)\n",
    "print(\"Number of stops at that hour:\", most_common_count)\n",
    "\n",
    "\n",
    "gender_counts = police_df[\"driver_gender\"].value_counts()\n",
    "gender_percentages = (gender_counts / gender_counts.sum()) * 100\n",
    "print(\"Driver Gender Percentages:\")\n",
    "for gender, percentage in gender_percentages.items():\n",
    "    label = {\"M\": \"Man\", \"F\": \"Woman\"}.get(gender, \"Unknown\")\n",
    "    print(f\"{label}: %{percentage:.2f}\")\n",
    "\n",
    "\n",
    "stoping_reason = police_df[\"stop_outcome\"].value_counts()\n",
    "total_stops = stoping_reason.sum()\n",
    "stoping_percentages = (stoping_reason / total_stops) * 100\n",
    "print(\"\\nStop outcomes and their percentages:\")\n",
    "print(stoping_percentages)\n",
    "citation_count = (police_df[\"stop_outcome\"] == \"Citation\").sum()\n",
    "citation_percentage = citation_count / total_stops * 100\n",
    "print(\"Number of stops with Citation:\", citation_count)\n",
    "print(f\"Percentage of stops with Citation: {citation_percentage:.2f}%\")\n",
    "\n",
    "\n",
    "arrested = police_df[police_df[\"is_arrested\"] == True]\n",
    "arrested_count = arrested.groupby([\"driver_race\", \"driver_gender\"]).size()\n",
    "print(\"Arrested counts by race and gender:\\n\", arrested_count)\n",
    "total_stops_by_group = police_df.groupby([\"driver_race\", \"driver_gender\"]).size()\n",
    "arrest_rate = (arrested_count / total_stops) * 100\n",
    "arrest_rate = arrest_rate.fillna(0)\n",
    "print(\"Arrest rate(%) by race and gender:\\n\", arrest_rate)\n",
    "arrest_rate_sorted = arrest_rate.sort_values(ascending=False)\n",
    "print(\"Sorted arrest rates(%):\\n \", arrest_rate_sorted)"
   ]
  }
 ],
 "metadata": {
  "kaggle": {
   "accelerator": "none",
   "dataSources": [
    {
     "datasetId": 503746,
     "sourceId": 933130,
     "sourceType": "datasetVersion"
    }
   ],
   "dockerImageVersionId": 31040,
   "isGpuEnabled": false,
   "isInternetEnabled": false,
   "language": "python",
   "sourceType": "notebook"
  },
  "kernelspec": {
   "display_name": "Python 3",
   "language": "python",
   "name": "python3"
  },
  "language_info": {
   "codemirror_mode": {
    "name": "ipython",
    "version": 3
   },
   "file_extension": ".py",
   "mimetype": "text/x-python",
   "name": "python",
   "nbconvert_exporter": "python",
   "pygments_lexer": "ipython3",
   "version": "3.11.11"
  },
  "papermill": {
   "default_parameters": {},
   "duration": 8.936592,
   "end_time": "2025-06-07T09:52:26.048077",
   "environment_variables": {},
   "exception": null,
   "input_path": "__notebook__.ipynb",
   "output_path": "__notebook__.ipynb",
   "parameters": {},
   "start_time": "2025-06-07T09:52:17.111485",
   "version": "2.6.0"
  }
 },
 "nbformat": 4,
 "nbformat_minor": 5
}
